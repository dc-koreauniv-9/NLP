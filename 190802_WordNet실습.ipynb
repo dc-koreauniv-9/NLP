{
  "nbformat": 4,
  "nbformat_minor": 0,
  "metadata": {
    "colab": {
      "name": "190802-자연어.ipynb의 사본",
      "version": "0.3.2",
      "provenance": [],
      "include_colab_link": true
    },
    "kernelspec": {
      "name": "python3",
      "display_name": "Python 3"
    },
    "accelerator": "GPU"
  },
  "cells": [
    {
      "cell_type": "markdown",
      "metadata": {
        "id": "view-in-github",
        "colab_type": "text"
      },
      "source": [
        "<a href=\"https://colab.research.google.com/github/dc-koreauniv-9/NLP/blob/master/190802_WordNet%EC%8B%A4%EC%8A%B5.ipynb\" target=\"_parent\"><img src=\"https://colab.research.google.com/assets/colab-badge.svg\" alt=\"Open In Colab\"/></a>"
      ]
    },
    {
      "cell_type": "code",
      "metadata": {
        "id": "3jEJ_Hoi5YyW",
        "colab_type": "code",
        "colab": {
          "base_uri": "https://localhost:8080/",
          "height": 53
        },
        "outputId": "cccb618a-0ab1-48c2-ba55-8f6a02cc0c5c"
      },
      "source": [
        "#word-synset\n",
        "import nltk\n",
        "nltk.download('wordnet')\n",
        "from nltk.corpus import wordnet\n"
      ],
      "execution_count": 1,
      "outputs": [
        {
          "output_type": "stream",
          "text": [
            "[nltk_data] Downloading package wordnet to /root/nltk_data...\n",
            "[nltk_data]   Unzipping corpora/wordnet.zip.\n"
          ],
          "name": "stdout"
        }
      ]
    },
    {
      "cell_type": "code",
      "metadata": {
        "id": "zEOV4ikO5tkb",
        "colab_type": "code",
        "colab": {
          "base_uri": "https://localhost:8080/",
          "height": 71
        },
        "outputId": "bd9e4362-a900-41f6-c8ca-892f45aa02b2"
      },
      "source": [
        "syn = wordnet.synsets('drink')[0]\n",
        "print(syn)\n",
        "print(syn.definition())\n",
        "print(syn.examples())"
      ],
      "execution_count": 2,
      "outputs": [
        {
          "output_type": "stream",
          "text": [
            "Synset('drink.n.01')\n",
            "a single serving of a beverage\n",
            "['I asked for a hot drink', 'likes a drink before dinner']\n"
          ],
          "name": "stdout"
        }
      ]
    },
    {
      "cell_type": "code",
      "metadata": {
        "id": "V8q64s8y5xfg",
        "colab_type": "code",
        "colab": {
          "base_uri": "https://localhost:8080/",
          "height": 91
        },
        "outputId": "c0b24d98-c6a2-4580-ee4a-ab3be25decb2"
      },
      "source": [
        "# 상위어와 하위어를 뽑아볼것이다. 띄어쓰기는 항상 _\n",
        "syn = wordnet.synsets('motor_vehicle')[0]\n",
        "print(syn.hypernyms()) # 상위어\n",
        "print(syn.hypernyms()[0].hyponyms()) #하위어\n",
        "print(syn.root_hypernyms())"
      ],
      "execution_count": 3,
      "outputs": [
        {
          "output_type": "stream",
          "text": [
            "[Synset('self-propelled_vehicle.n.01')]\n",
            "[Synset('armored_vehicle.n.01'), Synset('carrier.n.02'), Synset('forklift.n.01'), Synset('locomotive.n.01'), Synset('motor_vehicle.n.01'), Synset('personnel_carrier.n.01'), Synset('reconnaissance_vehicle.n.01'), Synset('recreational_vehicle.n.01'), Synset('streetcar.n.01'), Synset('tracked_vehicle.n.01'), Synset('tractor.n.01'), Synset('weapons_carrier.n.01')]\n",
            "[Synset('entity.n.01')]\n"
          ],
          "name": "stdout"
        }
      ]
    },
    {
      "cell_type": "code",
      "metadata": {
        "id": "aVlJwXRZ7RRo",
        "colab_type": "code",
        "colab": {
          "base_uri": "https://localhost:8080/",
          "height": 53
        },
        "outputId": "16acae2d-7121-48d6-c32f-cc2d15e67b2b"
      },
      "source": [
        "print(syn.pos()) # 품사 추출 : 의미를 나열할때 가장 많이 사용하는 의미로 나눈다. / 대표품사\n",
        "print(wordnet.synsets('drink',pos='n')) # 품사를 설정해서 모든 synset을 찾는다. / "
      ],
      "execution_count": 5,
      "outputs": [
        {
          "output_type": "stream",
          "text": [
            "n\n",
            "[Synset('drink.n.01'), Synset('drink.n.02'), Synset('beverage.n.01'), Synset('drink.n.04'), Synset('swallow.n.02')]\n"
          ],
          "name": "stdout"
        }
      ]
    },
    {
      "cell_type": "code",
      "metadata": {
        "id": "lXWJ1VjD7RWS",
        "colab_type": "code",
        "colab": {
          "base_uri": "https://localhost:8080/",
          "height": 35
        },
        "outputId": "73c9a5e2-305d-45f7-f86d-c218a431b787"
      },
      "source": [
        "syn = wordnet.synsets('drank')[0] # 원형 찾기\n",
        "lemmas = syn.lemmas()\n",
        "print(lemmas)"
      ],
      "execution_count": 6,
      "outputs": [
        {
          "output_type": "stream",
          "text": [
            "[Lemma('drink.v.01.drink'), Lemma('drink.v.01.imbibe')]\n"
          ],
          "name": "stdout"
        }
      ]
    },
    {
      "cell_type": "code",
      "metadata": {
        "id": "9QLfL92G7Raj",
        "colab_type": "code",
        "colab": {
          "base_uri": "https://localhost:8080/",
          "height": 35
        },
        "outputId": "26b01afd-3413-4bed-bda6-ceaddc5becb4"
      },
      "source": [
        "#반의어 추출\n",
        "syn1 = wordnet.synset('good.n.02')\n",
        "syn2 = syn1.lemmas()[0].antonyms()[0]\n",
        "print(syn2)"
      ],
      "execution_count": 10,
      "outputs": [
        {
          "output_type": "stream",
          "text": [
            "Lemma('evil.n.03.evil')\n"
          ],
          "name": "stdout"
        }
      ]
    },
    {
      "cell_type": "code",
      "metadata": {
        "id": "hkJktImw7Rec",
        "colab_type": "code",
        "colab": {
          "base_uri": "https://localhost:8080/",
          "height": 35
        },
        "outputId": "7eedd75a-8577-4828-b3f2-f3f999a5375e"
      },
      "source": [
        "# synset간에 유사도 확인\n",
        "\n",
        "# - 문장들을 확장시켜서 딥러닝에 사용가능\n",
        "# - 학습 데이터가 적을때 사용하면 좋다.\n",
        "\n",
        "\n",
        "syn1 = wordnet.synset('apple.n.01')\n",
        "syn2 = wordnet.synset('ship.n.01')\n",
        "print(syn1.wup_similarity(syn2))"
      ],
      "execution_count": 11,
      "outputs": [
        {
          "output_type": "stream",
          "text": [
            "0.36363636363636365\n"
          ],
          "name": "stdout"
        }
      ]
    },
    {
      "cell_type": "code",
      "metadata": {
        "id": "SYPOA8ru7RlZ",
        "colab_type": "code",
        "colab": {}
      },
      "source": [
        ""
      ],
      "execution_count": 0,
      "outputs": []
    },
    {
      "cell_type": "code",
      "metadata": {
        "id": "FGHnXZ_s7RpD",
        "colab_type": "code",
        "colab": {}
      },
      "source": [
        ""
      ],
      "execution_count": 0,
      "outputs": []
    },
    {
      "cell_type": "code",
      "metadata": {
        "id": "sJXNWToM7Rse",
        "colab_type": "code",
        "colab": {}
      },
      "source": [
        ""
      ],
      "execution_count": 0,
      "outputs": []
    },
    {
      "cell_type": "code",
      "metadata": {
        "id": "0RAUetMC7RyS",
        "colab_type": "code",
        "colab": {}
      },
      "source": [
        ""
      ],
      "execution_count": 0,
      "outputs": []
    },
    {
      "cell_type": "code",
      "metadata": {
        "id": "As9B8mSe7R2D",
        "colab_type": "code",
        "colab": {}
      },
      "source": [
        ""
      ],
      "execution_count": 0,
      "outputs": []
    },
    {
      "cell_type": "code",
      "metadata": {
        "id": "8c5HWd3B6nRi",
        "colab_type": "code",
        "colab": {}
      },
      "source": [
        ""
      ],
      "execution_count": 0,
      "outputs": []
    }
  ]
}