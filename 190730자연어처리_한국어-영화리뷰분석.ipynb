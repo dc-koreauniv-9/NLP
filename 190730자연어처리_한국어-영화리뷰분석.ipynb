{
  "nbformat": 4,
  "nbformat_minor": 0,
  "metadata": {
    "colab": {
      "name": "190730자연어처리-한국어_영화리뷰분석.ipynb",
      "version": "0.3.2",
      "provenance": [],
      "collapsed_sections": [],
      "include_colab_link": true
    },
    "kernelspec": {
      "name": "python3",
      "display_name": "Python 3"
    },
    "accelerator": "GPU"
  },
  "cells": [
    {
      "cell_type": "markdown",
      "metadata": {
        "id": "view-in-github",
        "colab_type": "text"
      },
      "source": [
        "<a href=\"https://colab.research.google.com/github/dc-koreauniv-9/NLP/blob/master/190730%EC%9E%90%EC%97%B0%EC%96%B4%EC%B2%98%EB%A6%AC_%ED%95%9C%EA%B5%AD%EC%96%B4-%EC%98%81%ED%99%94%EB%A6%AC%EB%B7%B0%EB%B6%84%EC%84%9D.ipynb\" target=\"_parent\"><img src=\"https://colab.research.google.com/assets/colab-badge.svg\" alt=\"Open In Colab\"/></a>"
      ]
    },
    {
      "cell_type": "code",
      "metadata": {
        "id": "a9MG8jVifSce",
        "colab_type": "code",
        "outputId": "459da45d-69de-4c94-b93a-79c76d836391",
        "colab": {
          "base_uri": "https://localhost:8080/",
          "height": 35
        }
      },
      "source": [
        "!git clone https://github.com/e9t/nsmc.git"
      ],
      "execution_count": 69,
      "outputs": [
        {
          "output_type": "stream",
          "text": [
            "fatal: destination path 'nsmc' already exists and is not an empty directory.\n"
          ],
          "name": "stdout"
        }
      ]
    },
    {
      "cell_type": "code",
      "metadata": {
        "id": "3ck_UlSsgiyT",
        "colab_type": "code",
        "outputId": "e8a5043d-7197-4eb7-803c-de665684a0ff",
        "colab": {
          "base_uri": "https://localhost:8080/",
          "height": 217
        }
      },
      "source": [
        "# github에 있는 데이터 가지고 오기\n",
        "# id : 고유 id\n",
        "# document : 내용\n",
        "# label : 0 - 부정, 1 - 긍정 (결과가 조금 다를 수 있다.)\n",
        "\n",
        "!cat ./nsmc/ratings_train.txt | head -n 10"
      ],
      "execution_count": 0,
      "outputs": [
        {
          "output_type": "stream",
          "text": [
            "id\tdocument\tlabel\n",
            "9976970\t아 더빙.. 진짜 짜증나네요 목소리\t0\n",
            "3819312\t흠...포스터보고 초딩영화줄....오버연기조차 가볍지 않구나\t1\n",
            "10265843\t너무재밓었다그래서보는것을추천한다\t0\n",
            "9045019\t교도소 이야기구먼 ..솔직히 재미는 없다..평점 조정\t0\n",
            "6483659\t사이몬페그의 익살스런 연기가 돋보였던 영화!스파이더맨에서 늙어보이기만 했던 커스틴 던스트가 너무나도 이뻐보였다\t1\n",
            "5403919\t막 걸음마 뗀 3세부터 초등학교 1학년생인 8살용영화.ㅋㅋㅋ...별반개도 아까움.\t0\n",
            "7797314\t원작의 긴장감을 제대로 살려내지못했다.\t0\n",
            "9443947\t별 반개도 아깝다 욕나온다 이응경 길용우 연기생활이몇년인지..정말 발로해도 그것보단 낫겟다 납치.감금만반복반복..이드라마는 가족도없다 연기못하는사람만모엿네\t0\n",
            "7156791\t액션이 없는데도 재미 있는 몇안되는 영화\t1\n"
          ],
          "name": "stdout"
        }
      ]
    },
    {
      "cell_type": "code",
      "metadata": {
        "id": "EuPc_3Blgyjb",
        "colab_type": "code",
        "colab": {}
      },
      "source": [
        "\n",
        "def read_data(filename):\n",
        "  with open(filename,'r') as f:\n",
        "    data = [line.split('\\t') for line in f.read().splitlines()]\n",
        "    # txt 파일의 헤더(id document label) 제외하기\n",
        "    data = data[1:]\n",
        "  return data\n",
        "\n"
      ],
      "execution_count": 0,
      "outputs": []
    },
    {
      "cell_type": "code",
      "metadata": {
        "id": "2EJv0S3Xg5bd",
        "colab_type": "code",
        "outputId": "ebdbd113-34d0-41e3-85bf-033238d052de",
        "colab": {
          "base_uri": "https://localhost:8080/",
          "height": 55
        }
      },
      "source": [
        "train_data = read_data(\"./nsmc/ratings_train.txt\")\n",
        "test_data = read_data(\"./nsmc/ratings_test.txt\")\n",
        "\n",
        "# 간단하게 3개만 출력\n",
        "print(train_data[0:3])"
      ],
      "execution_count": 0,
      "outputs": [
        {
          "output_type": "stream",
          "text": [
            "[['9976970', '아 더빙.. 진짜 짜증나네요 목소리', '0'], ['3819312', '흠...포스터보고 초딩영화줄....오버연기조차 가볍지 않구나', '1'], ['10265843', '너무재밓었다그래서보는것을추천한다', '0']]\n"
          ],
          "name": "stdout"
        }
      ]
    },
    {
      "cell_type": "code",
      "metadata": {
        "id": "YDKyMTVJg5na",
        "colab_type": "code",
        "outputId": "bc060cb0-575d-410d-f523-c7dc75167bde",
        "colab": {
          "base_uri": "https://localhost:8080/",
          "height": 53
        }
      },
      "source": [
        "print(len(train_data))\n",
        "print(len(train_data[0]))"
      ],
      "execution_count": 0,
      "outputs": [
        {
          "output_type": "stream",
          "text": [
            "150000\n",
            "3\n"
          ],
          "name": "stdout"
        }
      ]
    },
    {
      "cell_type": "markdown",
      "metadata": {
        "id": "l4nbNojdjhvJ",
        "colab_type": "text"
      },
      "source": [
        "# 데이터 전처리\n",
        "- KoNLPy 라이브러리를 이용 형태소 분석"
      ]
    },
    {
      "cell_type": "code",
      "metadata": {
        "id": "omorRW03g5p5",
        "colab_type": "code",
        "outputId": "ca02d313-741e-4d4c-cdc7-60326c50fd7f",
        "colab": {
          "base_uri": "https://localhost:8080/",
          "height": 181
        }
      },
      "source": [
        "!pip install konlpy"
      ],
      "execution_count": 0,
      "outputs": [
        {
          "output_type": "stream",
          "text": [
            "Collecting konlpy\n",
            "\u001b[?25l  Downloading https://files.pythonhosted.org/packages/e5/3d/4e983cd98d87b50b2ab0387d73fa946f745aa8164e8888a714d5129f9765/konlpy-0.5.1-py2.py3-none-any.whl (19.4MB)\n",
            "\u001b[K     |████████████████████████████████| 19.4MB 2.7MB/s \n",
            "\u001b[?25hCollecting JPype1>=0.5.7 (from konlpy)\n",
            "\u001b[?25l  Downloading https://files.pythonhosted.org/packages/07/09/e19ce27d41d4f66d73ac5b6c6a188c51b506f56c7bfbe6c1491db2d15995/JPype1-0.7.0-cp36-cp36m-manylinux2010_x86_64.whl (2.7MB)\n",
            "\u001b[K     |████████████████████████████████| 2.7MB 26.2MB/s \n",
            "\u001b[?25hInstalling collected packages: JPype1, konlpy\n",
            "Successfully installed JPype1-0.7.0 konlpy-0.5.1\n"
          ],
          "name": "stdout"
        }
      ]
    },
    {
      "cell_type": "code",
      "metadata": {
        "id": "gmgveTT0g5sh",
        "colab_type": "code",
        "outputId": "dcf61c16-e392-47a5-9b16-fecd8e08969a",
        "colab": {
          "base_uri": "https://localhost:8080/",
          "height": 197
        }
      },
      "source": [
        "import konlpy\n",
        "import json\n",
        "import os\n",
        "from pprint import pprint\n",
        "from konlpy.tag import Okt\n",
        "okt = Okt()"
      ],
      "execution_count": 0,
      "outputs": [
        {
          "output_type": "stream",
          "text": [
            "/usr/local/lib/python3.6/dist-packages/jpype/_core.py:210: UserWarning: \n",
            "-------------------------------------------------------------------------------\n",
            "Deprecated: convertStrings was not specified when starting the JVM. The default\n",
            "behavior in JPype will be False starting in JPype 0.8. The recommended setting\n",
            "for new code is convertStrings=False.  The legacy value of True was assumed for\n",
            "this session. If you are a user of an application that reported this warning,\n",
            "please file a ticket with the developer.\n",
            "-------------------------------------------------------------------------------\n",
            "\n",
            "  \"\"\")\n"
          ],
          "name": "stderr"
        }
      ]
    },
    {
      "cell_type": "code",
      "metadata": {
        "id": "kQsusQ2Fg5vB",
        "colab_type": "code",
        "outputId": "e8ab041d-6a11-4d53-d6b9-7c58e03b966f",
        "colab": {
          "base_uri": "https://localhost:8080/",
          "height": 143
        }
      },
      "source": [
        "# 영화 평 데이터에 형태소 분석을 통해서 품사를 태깅해주는 작업\n",
        "# 품사를 태깅 : '더빙/Noun' -> None 같이 형태소의 뜻과 문맥을 고려하여 그것을 마크업\n",
        "# 데이터의 양이 크기 때문에 작업을 반복하지 않기 위해서 json파일로 저장\n",
        "\n",
        "train_data = train_data[:10000]\n",
        "test_data = test_data[:1000]\n",
        "\n",
        "def tokenize(doc):\n",
        "   return ['/'.join(t) for t in okt.pos(doc, norm=True, stem=True)]\n",
        "\n",
        "if os.path.isfile('train_docs.json'):\n",
        "  with open('train_docs.json') as f:\n",
        "    train_docs = json.load(f)\n",
        "  with open('test_docs.json') as f:\n",
        "    test_docw = json.load(f)\n",
        "else:\n",
        "    train_docs = [(tokenize(row[1]), row[2]) for row in train_data]\n",
        "    test_docs = [(tokenize(row[1]), row[2]) for row in test_data]\n",
        "    \n",
        "    with open('train_docs.json', 'w', encoding=\"utf-8\") as make_file:\n",
        "        json.dump(train_docs, make_file, ensure_ascii=False, indent=\"\\t\")\n",
        "    with open('test_docs.json', 'w', encoding=\"utf-8\") as make_file:\n",
        "        json.dump(test_docs, make_file, ensure_ascii=False, indent=\"\\t\")\n",
        "\n",
        "pprint(train_docs[0])"
      ],
      "execution_count": 0,
      "outputs": [
        {
          "output_type": "stream",
          "text": [
            "(['아/Exclamation',\n",
            "  '더빙/Noun',\n",
            "  '../Punctuation',\n",
            "  '진짜/Noun',\n",
            "  '짜증나다/Adjective',\n",
            "  '목소리/Noun'],\n",
            " '0')\n"
          ],
          "name": "stdout"
        }
      ]
    },
    {
      "cell_type": "code",
      "metadata": {
        "id": "TaxAGK1Ag5xS",
        "colab_type": "code",
        "outputId": "9d11a6fd-2494-4c3f-b6de-94296abbd295",
        "colab": {
          "base_uri": "https://localhost:8080/",
          "height": 35
        }
      },
      "source": [
        "# 분석한 데이터의 토큰의 갯수를 확인하기\n",
        "tokens = [t for d in train_docs for t in d[0]]\n",
        "print(len(tokens))"
      ],
      "execution_count": 0,
      "outputs": [
        {
          "output_type": "stream",
          "text": [
            "146795\n"
          ],
          "name": "stdout"
        }
      ]
    },
    {
      "cell_type": "code",
      "metadata": {
        "id": "2gaPDofDg5zy",
        "colab_type": "code",
        "outputId": "d4dd2032-6b10-4749-e19c-0a0748483067",
        "colab": {
          "base_uri": "https://localhost:8080/",
          "height": 233
        }
      },
      "source": [
        "# nltk 라이브러리를 통해서 전처리를 하기\n",
        "# most_common을 사용해서 가장 많이 사용되는 단어를 추출한다.\n",
        "import nltk\n",
        "text = nltk.Text(tokens, name = 'NMSC')\n",
        "\n",
        "print(len(text.tokens)) # 전체 토큰의 개수\n",
        "print(len(set(text.tokens))) #중복을 제외한 토큰의 개수\n",
        "pprint(text.vocab().most_common(10))"
      ],
      "execution_count": 0,
      "outputs": [
        {
          "output_type": "stream",
          "text": [
            "146795\n",
            "13496\n",
            "[('./Punctuation', 4791),\n",
            " ('영화/Noun', 3368),\n",
            " ('하다/Verb', 2829),\n",
            " ('이/Josa', 2624),\n",
            " ('보다/Verb', 2576),\n",
            " ('의/Josa', 2123),\n",
            " ('../Punctuation', 1949),\n",
            " ('가/Josa', 1789),\n",
            " ('에/Josa', 1771),\n",
            " ('을/Josa', 1587)]\n"
          ],
          "name": "stdout"
        }
      ]
    },
    {
      "cell_type": "markdown",
      "metadata": {
        "id": "dmvpNUP8DVsg",
        "colab_type": "text"
      },
      "source": [
        "#One Hot Encoding\n",
        "- 데이터에는 수치형 데이터와 텍스트 데이터나 범주형데이터가있다.\n",
        "- 머신러닝이나 딥러닝에 데이터가 사용되기 위해서는 수치화가 필요하다.\n",
        "- 범주형 데이터 같은 경우 수치화가 필요한데 조건에 성립하는 하나의 데이터만 1 나머지는 0으로 채워주는것을 의미한다.\n",
        "\n",
        "# CountVectorization\n",
        "- token count를 matrix로 변환하는 클래스이다.\n",
        "- 문서 집합에서 단어 토큰을 생성하고 각 단어의 수를 세어 인코딩한 벡터를 만든다. -> 단어수를 세어  Bag을 만든다.\n",
        "- 여기서는 one hot encoding이 아닌  countvectorization을 사용한다."
      ]
    },
    {
      "cell_type": "code",
      "metadata": {
        "id": "ym16jYAbg52K",
        "colab_type": "code",
        "colab": {}
      },
      "source": [
        "import numpy as np\n",
        "\n",
        "# 시간 절약을 위하여 10000개의  most_common(10000) 사용한다.\n",
        "selected_words = [f[0] for f in text.vocab().most_common(10000)]\n",
        "\n",
        "def term_frequency(doc):\n",
        "    return [doc.count(word) for word in selected_words]\n",
        "\n",
        "train_x = [term_frequency(d) for d, _ in train_docs]\n",
        "test_x = [term_frequency(d) for d, _ in test_docs]\n",
        "train_y = [c for _, c in train_docs]\n",
        "test_y = [c for _, c in test_docs]"
      ],
      "execution_count": 0,
      "outputs": []
    },
    {
      "cell_type": "code",
      "metadata": {
        "id": "0Xx-Q3Olg57C",
        "colab_type": "code",
        "colab": {}
      },
      "source": [
        "# 데이터를 float형으로 변환시켜주어야 전처리 과정이 끝난다.\n",
        "\n",
        "x_train = np.asarray(train_x).astype('float32')\n",
        "x_test = np.asarray(test_x).astype('float32')\n",
        "\n",
        "y_train = np.asarray(train_y).astype('float32')\n",
        "y_test = np.asarray(test_y).astype('float32')"
      ],
      "execution_count": 0,
      "outputs": []
    },
    {
      "cell_type": "code",
      "metadata": {
        "id": "fOTDCNl7g59D",
        "colab_type": "code",
        "colab": {
          "base_uri": "https://localhost:8080/",
          "height": 541
        },
        "outputId": "c3fd13d0-99ef-4577-c938-e4932625a2c7"
      },
      "source": [
        "# 64개의 유닛을 가지고 긍정의 리뷰일 확률을 출력한다.\n",
        "# 10회 학습시킨다.\n",
        "from tensorflow.keras import models\n",
        "from tensorflow.keras import layers\n",
        "from tensorflow.keras import optimizers\n",
        "from tensorflow.keras import losses\n",
        "from tensorflow.keras import metrics\n",
        "\n",
        "model = models.Sequential()\n",
        "model.add(layers.Dense(64, activation='relu', input_shape=(10000,)))\n",
        "model.add(layers.Dense(64, activation='relu'))\n",
        "model.add(layers.Dense(1, activation='sigmoid'))\n",
        "\n",
        "model.compile(optimizer=optimizers.RMSprop(lr=0.001),\n",
        "             loss=losses.binary_crossentropy,\n",
        "             metrics=[metrics.binary_accuracy])\n",
        "\n",
        "model.fit(x_train, y_train, epochs=10, batch_size=512)\n",
        "results = model.evaluate(x_test, y_test)\n"
      ],
      "execution_count": 56,
      "outputs": [
        {
          "output_type": "stream",
          "text": [
            "WARNING: Logging before flag parsing goes to stderr.\n",
            "W0729 15:07:39.355564 140012916492160 deprecation.py:506] From /usr/local/lib/python3.6/dist-packages/tensorflow/python/ops/init_ops.py:1251: calling VarianceScaling.__init__ (from tensorflow.python.ops.init_ops) with dtype is deprecated and will be removed in a future version.\n",
            "Instructions for updating:\n",
            "Call initializer instance with the dtype argument instead of passing it to the constructor\n",
            "W0729 15:07:39.480202 140012916492160 deprecation.py:323] From /usr/local/lib/python3.6/dist-packages/tensorflow/python/ops/nn_impl.py:180: add_dispatch_support.<locals>.wrapper (from tensorflow.python.ops.array_ops) is deprecated and will be removed in a future version.\n",
            "Instructions for updating:\n",
            "Use tf.where in 2.0, which has the same broadcast rule as np.where\n"
          ],
          "name": "stderr"
        },
        {
          "output_type": "stream",
          "text": [
            "Epoch 1/10\n",
            "10000/10000 [==============================] - 1s 112us/sample - loss: 0.6060 - binary_accuracy: 0.7379\n",
            "Epoch 2/10\n",
            "10000/10000 [==============================] - 0s 33us/sample - loss: 0.3999 - binary_accuracy: 0.8587\n",
            "Epoch 3/10\n",
            "10000/10000 [==============================] - 0s 34us/sample - loss: 0.2946 - binary_accuracy: 0.8965\n",
            "Epoch 4/10\n",
            "10000/10000 [==============================] - 0s 34us/sample - loss: 0.2319 - binary_accuracy: 0.9187\n",
            "Epoch 5/10\n",
            "10000/10000 [==============================] - 0s 34us/sample - loss: 0.1868 - binary_accuracy: 0.9358\n",
            "Epoch 6/10\n",
            "10000/10000 [==============================] - 0s 35us/sample - loss: 0.1530 - binary_accuracy: 0.9460\n",
            "Epoch 7/10\n",
            "10000/10000 [==============================] - 0s 35us/sample - loss: 0.1272 - binary_accuracy: 0.9580\n",
            "Epoch 8/10\n",
            "10000/10000 [==============================] - 0s 33us/sample - loss: 0.1069 - binary_accuracy: 0.9650\n",
            "Epoch 9/10\n",
            "10000/10000 [==============================] - 0s 34us/sample - loss: 0.0896 - binary_accuracy: 0.9716\n",
            "Epoch 10/10\n",
            "10000/10000 [==============================] - 0s 34us/sample - loss: 0.0764 - binary_accuracy: 0.9758\n",
            "1000/1000 [==============================] - 0s 109us/sample - loss: 0.7804 - binary_accuracy: 0.7940\n"
          ],
          "name": "stdout"
        }
      ]
    },
    {
      "cell_type": "code",
      "metadata": {
        "id": "3y9GoOvpRcmW",
        "colab_type": "code",
        "colab": {
          "base_uri": "https://localhost:8080/",
          "height": 35
        },
        "outputId": "51d8857f-98f6-4adb-b4a4-6c7911d8ee25"
      },
      "source": [
        "# 테스트 데이터로 확인해본 결과 79%의 성능을 보여준다. \n",
        "results"
      ],
      "execution_count": 57,
      "outputs": [
        {
          "output_type": "execute_result",
          "data": {
            "text/plain": [
              "[0.7803858957886696, 0.794]"
            ]
          },
          "metadata": {
            "tags": []
          },
          "execution_count": 57
        }
      ]
    },
    {
      "cell_type": "markdown",
      "metadata": {
        "id": "9ddemm6sR-Ve",
        "colab_type": "text"
      },
      "source": [
        "#예측 함수 만들기\n",
        "- 새로운 데이터를 가지고와서 결과를 예측한다. "
      ]
    },
    {
      "cell_type": "code",
      "metadata": {
        "id": "YLhwQr5YRiNG",
        "colab_type": "code",
        "colab": {}
      },
      "source": [
        "#확률이 0.5보다 크면 긍정, 그보다 작으면 부정이라고 예측한다.\n",
        "def predict_pos(review):\n",
        "    token = tokenize(review)\n",
        "    tf = term_frequency(token)\n",
        "    data = np.expand_dims(np.asarray(tf).astype('float32'), axis=0)\n",
        "    score = float(model.predict(data))\n",
        "    if(score > 0.5):\n",
        "        print(\"[{}]는 {:.2f}% 확률로 긍정 리뷰이지 않을까 추측해본다\\n\".format(review, score * 100))\n",
        "    else:\n",
        "        print(\"[{}]는 {:.2f}% 확률로 부정 리뷰이지 않을까 추측해본다\\n\".format(review, (1 - score) * 100))"
      ],
      "execution_count": 0,
      "outputs": []
    },
    {
      "cell_type": "code",
      "metadata": {
        "id": "UKlNxybcSX3x",
        "colab_type": "code",
        "colab": {
          "base_uri": "https://localhost:8080/",
          "height": 53
        },
        "outputId": "153fc4ac-91fe-4eb9-c0b3-ff8d5d061ae3"
      },
      "source": [
        "predict_pos(\"뭐 이런 영화가 다 있죠? 정말 최악이군요\")"
      ],
      "execution_count": 67,
      "outputs": [
        {
          "output_type": "stream",
          "text": [
            "[뭐 이런 영화가 다 있죠? 정말 최악이군요]는 99.94% 확률로 부정 리뷰이지 않을까 추측해본다\n",
            "\n"
          ],
          "name": "stdout"
        }
      ]
    },
    {
      "cell_type": "code",
      "metadata": {
        "id": "lICImCq5SgRu",
        "colab_type": "code",
        "colab": {
          "base_uri": "https://localhost:8080/",
          "height": 53
        },
        "outputId": "3c580eef-e110-4230-a8b3-3f7d71468a40"
      },
      "source": [
        "predict_pos(\"제 인생영화 입니다 추천합니다.!!\")"
      ],
      "execution_count": 68,
      "outputs": [
        {
          "output_type": "stream",
          "text": [
            "[제 인생영화 입니다 추천합니다.!!]는 83.36% 확률로 긍정 리뷰이지 않을까 추측해본다\n",
            "\n"
          ],
          "name": "stdout"
        }
      ]
    },
    {
      "cell_type": "code",
      "metadata": {
        "id": "Y3B7q5PWS2le",
        "colab_type": "code",
        "colab": {}
      },
      "source": [
        ""
      ],
      "execution_count": 0,
      "outputs": []
    }
  ]
}